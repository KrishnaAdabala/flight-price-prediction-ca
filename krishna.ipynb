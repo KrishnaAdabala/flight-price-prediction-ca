{
 "cells": [
  {
   "cell_type": "code",
   "execution_count": 1,
   "id": "de4d2827",
   "metadata": {
    "_cell_guid": "b1076dfc-b9ad-4769-8c92-a6c4dae69d19",
    "_uuid": "8f2839f25d086af736a60e9eeb907d3b93b6e0e5",
    "execution": {
     "iopub.execute_input": "2022-03-01T11:56:10.358457Z",
     "iopub.status.busy": "2022-03-01T11:56:10.357502Z",
     "iopub.status.idle": "2022-03-01T11:56:11.423981Z",
     "shell.execute_reply": "2022-03-01T11:56:11.424560Z",
     "shell.execute_reply.started": "2022-03-01T11:24:25.548035Z"
    },
    "papermill": {
     "duration": 1.126689,
     "end_time": "2022-03-01T11:56:11.424869",
     "exception": false,
     "start_time": "2022-03-01T11:56:10.298180",
     "status": "completed"
    },
    "tags": []
   },
   "outputs": [],
   "source": [
    "\n",
    "import numpy as np # linear algebra\n",
    "import pandas as pd # data processing, CSV file I/O (e.g. pd.read_csv)\n",
    "import seaborn as sns\n",
    "import matplotlib.pyplot as plt\n",
    "%matplotlib inline\n"
   ]
  },
  {
   "cell_type": "code",
   "execution_count": 3,
   "id": "163cea5c",
   "metadata": {
    "execution": {
     "iopub.execute_input": "2022-03-01T11:56:11.524995Z",
     "iopub.status.busy": "2022-03-01T11:56:11.524312Z",
     "iopub.status.idle": "2022-03-01T11:56:12.239532Z",
     "shell.execute_reply": "2022-03-01T11:56:12.240018Z",
     "shell.execute_reply.started": "2022-03-01T11:24:26.527389Z"
    },
    "papermill": {
     "duration": 0.766769,
     "end_time": "2022-03-01T11:56:12.240210",
     "exception": false,
     "start_time": "2022-03-01T11:56:11.473441",
     "status": "completed"
    },
    "tags": []
   },
   "outputs": [
    {
     "data": {
      "text/html": [
       "<div>\n",
       "<style scoped>\n",
       "    .dataframe tbody tr th:only-of-type {\n",
       "        vertical-align: middle;\n",
       "    }\n",
       "\n",
       "    .dataframe tbody tr th {\n",
       "        vertical-align: top;\n",
       "    }\n",
       "\n",
       "    .dataframe thead th {\n",
       "        text-align: right;\n",
       "    }\n",
       "</style>\n",
       "<table border=\"1\" class=\"dataframe\">\n",
       "  <thead>\n",
       "    <tr style=\"text-align: right;\">\n",
       "      <th></th>\n",
       "      <th>Unnamed: 0</th>\n",
       "      <th>airline</th>\n",
       "      <th>flight</th>\n",
       "      <th>source_city</th>\n",
       "      <th>departure_time</th>\n",
       "      <th>stops</th>\n",
       "      <th>arrival_time</th>\n",
       "      <th>destination_city</th>\n",
       "      <th>class</th>\n",
       "      <th>duration</th>\n",
       "      <th>days_left</th>\n",
       "      <th>price</th>\n",
       "    </tr>\n",
       "  </thead>\n",
       "  <tbody>\n",
       "    <tr>\n",
       "      <th>0</th>\n",
       "      <td>0</td>\n",
       "      <td>SpiceJet</td>\n",
       "      <td>SG-8709</td>\n",
       "      <td>Delhi</td>\n",
       "      <td>Evening</td>\n",
       "      <td>zero</td>\n",
       "      <td>Night</td>\n",
       "      <td>Mumbai</td>\n",
       "      <td>Economy</td>\n",
       "      <td>2.17</td>\n",
       "      <td>1</td>\n",
       "      <td>5953</td>\n",
       "    </tr>\n",
       "    <tr>\n",
       "      <th>1</th>\n",
       "      <td>1</td>\n",
       "      <td>SpiceJet</td>\n",
       "      <td>SG-8157</td>\n",
       "      <td>Delhi</td>\n",
       "      <td>Early_Morning</td>\n",
       "      <td>zero</td>\n",
       "      <td>Morning</td>\n",
       "      <td>Mumbai</td>\n",
       "      <td>Economy</td>\n",
       "      <td>2.33</td>\n",
       "      <td>1</td>\n",
       "      <td>5953</td>\n",
       "    </tr>\n",
       "    <tr>\n",
       "      <th>2</th>\n",
       "      <td>2</td>\n",
       "      <td>AirAsia</td>\n",
       "      <td>I5-764</td>\n",
       "      <td>Delhi</td>\n",
       "      <td>Early_Morning</td>\n",
       "      <td>zero</td>\n",
       "      <td>Early_Morning</td>\n",
       "      <td>Mumbai</td>\n",
       "      <td>Economy</td>\n",
       "      <td>2.17</td>\n",
       "      <td>1</td>\n",
       "      <td>5956</td>\n",
       "    </tr>\n",
       "    <tr>\n",
       "      <th>3</th>\n",
       "      <td>3</td>\n",
       "      <td>Vistara</td>\n",
       "      <td>UK-995</td>\n",
       "      <td>Delhi</td>\n",
       "      <td>Morning</td>\n",
       "      <td>zero</td>\n",
       "      <td>Afternoon</td>\n",
       "      <td>Mumbai</td>\n",
       "      <td>Economy</td>\n",
       "      <td>2.25</td>\n",
       "      <td>1</td>\n",
       "      <td>5955</td>\n",
       "    </tr>\n",
       "    <tr>\n",
       "      <th>4</th>\n",
       "      <td>4</td>\n",
       "      <td>Vistara</td>\n",
       "      <td>UK-963</td>\n",
       "      <td>Delhi</td>\n",
       "      <td>Morning</td>\n",
       "      <td>zero</td>\n",
       "      <td>Morning</td>\n",
       "      <td>Mumbai</td>\n",
       "      <td>Economy</td>\n",
       "      <td>2.33</td>\n",
       "      <td>1</td>\n",
       "      <td>5955</td>\n",
       "    </tr>\n",
       "  </tbody>\n",
       "</table>\n",
       "</div>"
      ],
      "text/plain": [
       "   Unnamed: 0   airline   flight source_city departure_time stops  \\\n",
       "0           0  SpiceJet  SG-8709       Delhi        Evening  zero   \n",
       "1           1  SpiceJet  SG-8157       Delhi  Early_Morning  zero   \n",
       "2           2   AirAsia   I5-764       Delhi  Early_Morning  zero   \n",
       "3           3   Vistara   UK-995       Delhi        Morning  zero   \n",
       "4           4   Vistara   UK-963       Delhi        Morning  zero   \n",
       "\n",
       "    arrival_time destination_city    class  duration  days_left  price  \n",
       "0          Night           Mumbai  Economy      2.17          1   5953  \n",
       "1        Morning           Mumbai  Economy      2.33          1   5953  \n",
       "2  Early_Morning           Mumbai  Economy      2.17          1   5956  \n",
       "3      Afternoon           Mumbai  Economy      2.25          1   5955  \n",
       "4        Morning           Mumbai  Economy      2.33          1   5955  "
      ]
     },
     "execution_count": 3,
     "metadata": {},
     "output_type": "execute_result"
    }
   ],
   "source": [
    "clean_data = pd.read_csv('Clean_Dataset.csv')\n",
    "clean_data.head()"
   ]
  },
  {
   "cell_type": "code",
   "execution_count": 4,
   "id": "22747430",
   "metadata": {
    "execution": {
     "iopub.execute_input": "2022-03-01T11:56:12.340236Z",
     "iopub.status.busy": "2022-03-01T11:56:12.339538Z",
     "iopub.status.idle": "2022-03-01T11:56:12.616320Z",
     "shell.execute_reply": "2022-03-01T11:56:12.615667Z",
     "shell.execute_reply.started": "2022-03-01T11:24:27.139396Z"
    },
    "papermill": {
     "duration": 0.326087,
     "end_time": "2022-03-01T11:56:12.616462",
     "exception": false,
     "start_time": "2022-03-01T11:56:12.290375",
     "status": "completed"
    },
    "tags": []
   },
   "outputs": [
    {
     "name": "stdout",
     "output_type": "stream",
     "text": [
      "<class 'pandas.core.frame.DataFrame'>\n",
      "RangeIndex: 300153 entries, 0 to 300152\n",
      "Data columns (total 12 columns):\n",
      " #   Column            Non-Null Count   Dtype  \n",
      "---  ------            --------------   -----  \n",
      " 0   Unnamed: 0        300153 non-null  int64  \n",
      " 1   airline           300153 non-null  object \n",
      " 2   flight            300153 non-null  object \n",
      " 3   source_city       300153 non-null  object \n",
      " 4   departure_time    300153 non-null  object \n",
      " 5   stops             300153 non-null  object \n",
      " 6   arrival_time      300153 non-null  object \n",
      " 7   destination_city  300153 non-null  object \n",
      " 8   class             300153 non-null  object \n",
      " 9   duration          300153 non-null  float64\n",
      " 10  days_left         300153 non-null  int64  \n",
      " 11  price             300153 non-null  int64  \n",
      "dtypes: float64(1), int64(3), object(8)\n",
      "memory usage: 27.5+ MB\n"
     ]
    }
   ],
   "source": [
    "clean_data.info()"
   ]
  },
  {
   "cell_type": "code",
   "execution_count": 5,
   "id": "43b31a35",
   "metadata": {
    "execution": {
     "iopub.execute_input": "2022-03-01T11:56:12.715915Z",
     "iopub.status.busy": "2022-03-01T11:56:12.715274Z",
     "iopub.status.idle": "2022-03-01T11:56:12.749300Z",
     "shell.execute_reply": "2022-03-01T11:56:12.748700Z",
     "shell.execute_reply.started": "2022-03-01T11:24:27.262182Z"
    },
    "papermill": {
     "duration": 0.085947,
     "end_time": "2022-03-01T11:56:12.749442",
     "exception": false,
     "start_time": "2022-03-01T11:56:12.663495",
     "status": "completed"
    },
    "tags": []
   },
   "outputs": [],
   "source": [
    "clean_data.drop('Unnamed: 0', axis=1, inplace=True)"
   ]
  },
  {
   "cell_type": "code",
   "execution_count": 6,
   "id": "11ad369e",
   "metadata": {
    "execution": {
     "iopub.execute_input": "2022-03-01T11:56:12.853788Z",
     "iopub.status.busy": "2022-03-01T11:56:12.852726Z",
     "iopub.status.idle": "2022-03-01T11:56:12.891684Z",
     "shell.execute_reply": "2022-03-01T11:56:12.891029Z",
     "shell.execute_reply.started": "2022-03-01T11:24:27.294106Z"
    },
    "papermill": {
     "duration": 0.094341,
     "end_time": "2022-03-01T11:56:12.891826",
     "exception": false,
     "start_time": "2022-03-01T11:56:12.797485",
     "status": "completed"
    },
    "tags": []
   },
   "outputs": [
    {
     "data": {
      "text/html": [
       "<div>\n",
       "<style scoped>\n",
       "    .dataframe tbody tr th:only-of-type {\n",
       "        vertical-align: middle;\n",
       "    }\n",
       "\n",
       "    .dataframe tbody tr th {\n",
       "        vertical-align: top;\n",
       "    }\n",
       "\n",
       "    .dataframe thead th {\n",
       "        text-align: right;\n",
       "    }\n",
       "</style>\n",
       "<table border=\"1\" class=\"dataframe\">\n",
       "  <thead>\n",
       "    <tr style=\"text-align: right;\">\n",
       "      <th></th>\n",
       "      <th>duration</th>\n",
       "      <th>days_left</th>\n",
       "      <th>price</th>\n",
       "    </tr>\n",
       "  </thead>\n",
       "  <tbody>\n",
       "    <tr>\n",
       "      <th>count</th>\n",
       "      <td>300153.000000</td>\n",
       "      <td>300153.000000</td>\n",
       "      <td>300153.000000</td>\n",
       "    </tr>\n",
       "    <tr>\n",
       "      <th>mean</th>\n",
       "      <td>12.221021</td>\n",
       "      <td>26.004751</td>\n",
       "      <td>20889.660523</td>\n",
       "    </tr>\n",
       "    <tr>\n",
       "      <th>std</th>\n",
       "      <td>7.191997</td>\n",
       "      <td>13.561004</td>\n",
       "      <td>22697.767366</td>\n",
       "    </tr>\n",
       "    <tr>\n",
       "      <th>min</th>\n",
       "      <td>0.830000</td>\n",
       "      <td>1.000000</td>\n",
       "      <td>1105.000000</td>\n",
       "    </tr>\n",
       "    <tr>\n",
       "      <th>25%</th>\n",
       "      <td>6.830000</td>\n",
       "      <td>15.000000</td>\n",
       "      <td>4783.000000</td>\n",
       "    </tr>\n",
       "    <tr>\n",
       "      <th>50%</th>\n",
       "      <td>11.250000</td>\n",
       "      <td>26.000000</td>\n",
       "      <td>7425.000000</td>\n",
       "    </tr>\n",
       "    <tr>\n",
       "      <th>75%</th>\n",
       "      <td>16.170000</td>\n",
       "      <td>38.000000</td>\n",
       "      <td>42521.000000</td>\n",
       "    </tr>\n",
       "    <tr>\n",
       "      <th>max</th>\n",
       "      <td>49.830000</td>\n",
       "      <td>49.000000</td>\n",
       "      <td>123071.000000</td>\n",
       "    </tr>\n",
       "  </tbody>\n",
       "</table>\n",
       "</div>"
      ],
      "text/plain": [
       "            duration      days_left          price\n",
       "count  300153.000000  300153.000000  300153.000000\n",
       "mean       12.221021      26.004751   20889.660523\n",
       "std         7.191997      13.561004   22697.767366\n",
       "min         0.830000       1.000000    1105.000000\n",
       "25%         6.830000      15.000000    4783.000000\n",
       "50%        11.250000      26.000000    7425.000000\n",
       "75%        16.170000      38.000000   42521.000000\n",
       "max        49.830000      49.000000  123071.000000"
      ]
     },
     "execution_count": 6,
     "metadata": {},
     "output_type": "execute_result"
    }
   ],
   "source": [
    "clean_data.describe()"
   ]
  },
  {
   "cell_type": "markdown",
   "id": "56d1f058",
   "metadata": {
    "papermill": {
     "duration": 0.047152,
     "end_time": "2022-03-01T11:56:12.986601",
     "exception": false,
     "start_time": "2022-03-01T11:56:12.939449",
     "status": "completed"
    },
    "tags": []
   },
   "source": [
    "### Does prices vary with airlines?"
   ]
  },
  {
   "cell_type": "code",
   "execution_count": 7,
   "id": "ad3b90dd",
   "metadata": {
    "execution": {
     "iopub.execute_input": "2022-03-01T11:56:13.105147Z",
     "iopub.status.busy": "2022-03-01T11:56:13.104221Z",
     "iopub.status.idle": "2022-03-01T11:56:13.115356Z",
     "shell.execute_reply": "2022-03-01T11:56:13.114812Z",
     "shell.execute_reply.started": "2022-03-01T11:24:27.335184Z"
    },
    "papermill": {
     "duration": 0.081379,
     "end_time": "2022-03-01T11:56:13.115504",
     "exception": false,
     "start_time": "2022-03-01T11:56:13.034125",
     "status": "completed"
    },
    "tags": []
   },
   "outputs": [
    {
     "data": {
      "text/plain": [
       "array(['SpiceJet', 'AirAsia', 'Vistara', 'GO_FIRST', 'Indigo',\n",
       "       'Air_India'], dtype=object)"
      ]
     },
     "execution_count": 7,
     "metadata": {},
     "output_type": "execute_result"
    }
   ],
   "source": [
    "clean_data['airline'].unique()"
   ]
  },
  {
   "cell_type": "code",
   "execution_count": null,
   "id": "3420c418",
   "metadata": {
    "execution": {
     "iopub.execute_input": "2022-03-01T11:56:13.250602Z",
     "iopub.status.busy": "2022-03-01T11:56:13.249667Z",
     "iopub.status.idle": "2022-03-01T11:56:13.784941Z",
     "shell.execute_reply": "2022-03-01T11:56:13.784387Z",
     "shell.execute_reply.started": "2022-03-01T11:24:27.359947Z"
    },
    "papermill": {
     "duration": 0.620736,
     "end_time": "2022-03-01T11:56:13.785080",
     "exception": false,
     "start_time": "2022-03-01T11:56:13.164344",
     "status": "completed"
    },
    "tags": []
   },
   "outputs": [],
   "source": []
  },
  {
   "cell_type": "markdown",
   "id": "50a0f6ca",
   "metadata": {
    "papermill": {
     "duration": 0.048332,
     "end_time": "2022-03-01T11:56:13.882993",
     "exception": false,
     "start_time": "2022-03-01T11:56:13.834661",
     "status": "completed"
    },
    "tags": []
   },
   "source": [
    "### How is the price affected when tickets are bought in just 1 or 2 days before departure?"
   ]
  },
  {
   "cell_type": "code",
   "execution_count": 10,
   "id": "1c5765c3",
   "metadata": {
    "execution": {
     "iopub.execute_input": "2022-03-01T11:56:13.986084Z",
     "iopub.status.busy": "2022-03-01T11:56:13.985459Z",
     "iopub.status.idle": "2022-03-01T11:56:14.002885Z",
     "shell.execute_reply": "2022-03-01T11:56:14.002372Z",
     "shell.execute_reply.started": "2022-03-01T11:24:27.798937Z"
    },
    "papermill": {
     "duration": 0.069102,
     "end_time": "2022-03-01T11:56:14.003031",
     "exception": false,
     "start_time": "2022-03-01T11:56:13.933929",
     "status": "completed"
    },
    "tags": []
   },
   "outputs": [
    {
     "data": {
      "text/plain": [
       "count      5953.000000\n",
       "mean      27421.169326\n",
       "std       23236.028160\n",
       "min        1977.000000\n",
       "25%       11843.000000\n",
       "50%       16739.000000\n",
       "75%       43193.000000\n",
       "max      116562.000000\n",
       "Name: price, dtype: float64"
      ]
     },
     "execution_count": 10,
     "metadata": {},
     "output_type": "execute_result"
    }
   ],
   "source": [
    "clean_data[clean_data['days_left'] < 3].describe().price"
   ]
  },
  {
   "cell_type": "code",
   "execution_count": null,
   "id": "dc4298b9",
   "metadata": {
    "execution": {
     "iopub.execute_input": "2022-03-01T11:56:14.110260Z",
     "iopub.status.busy": "2022-03-01T11:56:14.109550Z",
     "iopub.status.idle": "2022-03-01T11:56:14.332800Z",
     "shell.execute_reply": "2022-03-01T11:56:14.332145Z",
     "shell.execute_reply.started": "2022-03-01T11:24:27.818732Z"
    },
    "papermill": {
     "duration": 0.279761,
     "end_time": "2022-03-01T11:56:14.332945",
     "exception": false,
     "start_time": "2022-03-01T11:56:14.053184",
     "status": "completed"
    },
    "tags": []
   },
   "outputs": [],
   "source": []
  },
  {
   "cell_type": "markdown",
   "id": "5a87d643",
   "metadata": {
    "papermill": {
     "duration": 0.05018,
     "end_time": "2022-03-01T11:56:14.433756",
     "exception": false,
     "start_time": "2022-03-01T11:56:14.383576",
     "status": "completed"
    },
    "tags": []
   },
   "source": [
    "### Does ticket price change based on the departure time and arrival time?"
   ]
  },
  {
   "cell_type": "code",
   "execution_count": 11,
   "id": "01cdea70",
   "metadata": {
    "execution": {
     "iopub.execute_input": "2022-03-01T11:56:14.544988Z",
     "iopub.status.busy": "2022-03-01T11:56:14.544284Z",
     "iopub.status.idle": "2022-03-01T11:56:14.569737Z",
     "shell.execute_reply": "2022-03-01T11:56:14.570269Z",
     "shell.execute_reply.started": "2022-03-01T11:24:28.034232Z"
    },
    "papermill": {
     "duration": 0.086297,
     "end_time": "2022-03-01T11:56:14.570437",
     "exception": false,
     "start_time": "2022-03-01T11:56:14.484140",
     "status": "completed"
    },
    "tags": []
   },
   "outputs": [
    {
     "data": {
      "text/plain": [
       "array(['Evening', 'Early_Morning', 'Morning', 'Afternoon', 'Night',\n",
       "       'Late_Night'], dtype=object)"
      ]
     },
     "execution_count": 11,
     "metadata": {},
     "output_type": "execute_result"
    }
   ],
   "source": [
    "clean_data['departure_time'].unique()"
   ]
  },
  {
   "cell_type": "code",
   "execution_count": 12,
   "id": "ba6c537f",
   "metadata": {
    "execution": {
     "iopub.execute_input": "2022-03-01T11:56:14.675598Z",
     "iopub.status.busy": "2022-03-01T11:56:14.674912Z",
     "iopub.status.idle": "2022-03-01T11:56:14.703764Z",
     "shell.execute_reply": "2022-03-01T11:56:14.704306Z",
     "shell.execute_reply.started": "2022-03-01T11:24:28.063247Z"
    },
    "papermill": {
     "duration": 0.083322,
     "end_time": "2022-03-01T11:56:14.704479",
     "exception": false,
     "start_time": "2022-03-01T11:56:14.621157",
     "status": "completed"
    },
    "tags": []
   },
   "outputs": [
    {
     "data": {
      "text/plain": [
       "array(['Night', 'Morning', 'Early_Morning', 'Afternoon', 'Evening',\n",
       "       'Late_Night'], dtype=object)"
      ]
     },
     "execution_count": 12,
     "metadata": {},
     "output_type": "execute_result"
    }
   ],
   "source": [
    "clean_data['arrival_time'].unique()"
   ]
  },
  {
   "cell_type": "code",
   "execution_count": null,
   "id": "52b3b5d1",
   "metadata": {
    "execution": {
     "iopub.execute_input": "2022-03-01T11:56:14.882165Z",
     "iopub.status.busy": "2022-03-01T11:56:14.828859Z",
     "iopub.status.idle": "2022-03-01T11:56:15.785360Z",
     "shell.execute_reply": "2022-03-01T11:56:15.785895Z",
     "shell.execute_reply.started": "2022-03-01T11:24:28.089842Z"
    },
    "papermill": {
     "duration": 1.03051,
     "end_time": "2022-03-01T11:56:15.786065",
     "exception": false,
     "start_time": "2022-03-01T11:56:14.755555",
     "status": "completed"
    },
    "tags": []
   },
   "outputs": [],
   "source": []
  },
  {
   "cell_type": "markdown",
   "id": "cc5e1bc5",
   "metadata": {
    "papermill": {
     "duration": 0.051928,
     "end_time": "2022-03-01T11:56:15.890431",
     "exception": false,
     "start_time": "2022-03-01T11:56:15.838503",
     "status": "completed"
    },
    "tags": []
   },
   "source": [
    "### How the price changes with change in Source and Destination?"
   ]
  },
  {
   "cell_type": "code",
   "execution_count": 13,
   "id": "d35cf37b",
   "metadata": {
    "execution": {
     "iopub.execute_input": "2022-03-01T11:56:15.997966Z",
     "iopub.status.busy": "2022-03-01T11:56:15.997308Z",
     "iopub.status.idle": "2022-03-01T11:56:16.027884Z",
     "shell.execute_reply": "2022-03-01T11:56:16.027216Z",
     "shell.execute_reply.started": "2022-03-01T11:24:28.802343Z"
    },
    "papermill": {
     "duration": 0.085504,
     "end_time": "2022-03-01T11:56:16.028066",
     "exception": false,
     "start_time": "2022-03-01T11:56:15.942562",
     "status": "completed"
    },
    "tags": []
   },
   "outputs": [
    {
     "data": {
      "text/plain": [
       "array(['Delhi', 'Mumbai', 'Bangalore', 'Kolkata', 'Hyderabad', 'Chennai'],\n",
       "      dtype=object)"
      ]
     },
     "execution_count": 13,
     "metadata": {},
     "output_type": "execute_result"
    }
   ],
   "source": [
    "clean_data['source_city'].unique()"
   ]
  },
  {
   "cell_type": "code",
   "execution_count": null,
   "id": "e73cde42",
   "metadata": {
    "execution": {
     "iopub.execute_input": "2022-03-01T11:56:16.140361Z",
     "iopub.status.busy": "2022-03-01T11:56:16.139601Z",
     "iopub.status.idle": "2022-03-01T11:56:17.948645Z",
     "shell.execute_reply": "2022-03-01T11:56:17.947993Z",
     "shell.execute_reply.started": "2022-03-01T11:24:28.828334Z"
    },
    "papermill": {
     "duration": 1.865215,
     "end_time": "2022-03-01T11:56:17.948796",
     "exception": false,
     "start_time": "2022-03-01T11:56:16.083581",
     "status": "completed"
    },
    "tags": []
   },
   "outputs": [],
   "source": []
  },
  {
   "cell_type": "markdown",
   "id": "2eb2f5f3",
   "metadata": {
    "papermill": {
     "duration": 0.053851,
     "end_time": "2022-03-01T11:56:18.057558",
     "exception": false,
     "start_time": "2022-03-01T11:56:18.003707",
     "status": "completed"
    },
    "tags": []
   },
   "source": [
    "### How does the ticket price vary between Economy and Business class?"
   ]
  },
  {
   "cell_type": "code",
   "execution_count": 14,
   "id": "07fee5a9",
   "metadata": {
    "execution": {
     "iopub.execute_input": "2022-03-01T11:56:18.170456Z",
     "iopub.status.busy": "2022-03-01T11:56:18.169771Z",
     "iopub.status.idle": "2022-03-01T11:56:18.196795Z",
     "shell.execute_reply": "2022-03-01T11:56:18.197335Z",
     "shell.execute_reply.started": "2022-03-01T11:24:29.978602Z"
    },
    "papermill": {
     "duration": 0.085325,
     "end_time": "2022-03-01T11:56:18.197508",
     "exception": false,
     "start_time": "2022-03-01T11:56:18.112183",
     "status": "completed"
    },
    "tags": []
   },
   "outputs": [
    {
     "data": {
      "text/plain": [
       "array(['Economy', 'Business'], dtype=object)"
      ]
     },
     "execution_count": 14,
     "metadata": {},
     "output_type": "execute_result"
    }
   ],
   "source": [
    "clean_data['class'].unique()"
   ]
  },
  {
   "cell_type": "code",
   "execution_count": null,
   "id": "41097446",
   "metadata": {
    "execution": {
     "iopub.execute_input": "2022-03-01T11:56:18.310646Z",
     "iopub.status.busy": "2022-03-01T11:56:18.309944Z",
     "iopub.status.idle": "2022-03-01T11:56:18.898652Z",
     "shell.execute_reply": "2022-03-01T11:56:18.899160Z",
     "shell.execute_reply.started": "2022-03-01T11:24:30.003066Z"
    },
    "papermill": {
     "duration": 0.647064,
     "end_time": "2022-03-01T11:56:18.899352",
     "exception": false,
     "start_time": "2022-03-01T11:56:18.252288",
     "status": "completed"
    },
    "tags": []
   },
   "outputs": [],
   "source": []
  },
  {
   "cell_type": "markdown",
   "id": "fec7259d",
   "metadata": {
    "papermill": {
     "duration": 0.055234,
     "end_time": "2022-03-01T11:56:19.009941",
     "exception": false,
     "start_time": "2022-03-01T11:56:18.954707",
     "status": "completed"
    },
    "tags": []
   },
   "source": [
    "### Preparing data for model training"
   ]
  },
  {
   "cell_type": "code",
   "execution_count": 15,
   "id": "b3df3dfb",
   "metadata": {
    "execution": {
     "iopub.execute_input": "2022-03-01T11:56:19.123825Z",
     "iopub.status.busy": "2022-03-01T11:56:19.123133Z",
     "iopub.status.idle": "2022-03-01T11:56:19.136817Z",
     "shell.execute_reply": "2022-03-01T11:56:19.137293Z",
     "shell.execute_reply.started": "2022-03-01T11:24:30.472012Z"
    },
    "papermill": {
     "duration": 0.072498,
     "end_time": "2022-03-01T11:56:19.137469",
     "exception": false,
     "start_time": "2022-03-01T11:56:19.064971",
     "status": "completed"
    },
    "tags": []
   },
   "outputs": [
    {
     "data": {
      "text/html": [
       "<div>\n",
       "<style scoped>\n",
       "    .dataframe tbody tr th:only-of-type {\n",
       "        vertical-align: middle;\n",
       "    }\n",
       "\n",
       "    .dataframe tbody tr th {\n",
       "        vertical-align: top;\n",
       "    }\n",
       "\n",
       "    .dataframe thead th {\n",
       "        text-align: right;\n",
       "    }\n",
       "</style>\n",
       "<table border=\"1\" class=\"dataframe\">\n",
       "  <thead>\n",
       "    <tr style=\"text-align: right;\">\n",
       "      <th></th>\n",
       "      <th>airline</th>\n",
       "      <th>flight</th>\n",
       "      <th>source_city</th>\n",
       "      <th>departure_time</th>\n",
       "      <th>stops</th>\n",
       "      <th>arrival_time</th>\n",
       "      <th>destination_city</th>\n",
       "      <th>class</th>\n",
       "      <th>duration</th>\n",
       "      <th>days_left</th>\n",
       "      <th>price</th>\n",
       "    </tr>\n",
       "  </thead>\n",
       "  <tbody>\n",
       "    <tr>\n",
       "      <th>0</th>\n",
       "      <td>SpiceJet</td>\n",
       "      <td>SG-8709</td>\n",
       "      <td>Delhi</td>\n",
       "      <td>Evening</td>\n",
       "      <td>zero</td>\n",
       "      <td>Night</td>\n",
       "      <td>Mumbai</td>\n",
       "      <td>Economy</td>\n",
       "      <td>2.17</td>\n",
       "      <td>1</td>\n",
       "      <td>5953</td>\n",
       "    </tr>\n",
       "    <tr>\n",
       "      <th>1</th>\n",
       "      <td>SpiceJet</td>\n",
       "      <td>SG-8157</td>\n",
       "      <td>Delhi</td>\n",
       "      <td>Early_Morning</td>\n",
       "      <td>zero</td>\n",
       "      <td>Morning</td>\n",
       "      <td>Mumbai</td>\n",
       "      <td>Economy</td>\n",
       "      <td>2.33</td>\n",
       "      <td>1</td>\n",
       "      <td>5953</td>\n",
       "    </tr>\n",
       "    <tr>\n",
       "      <th>2</th>\n",
       "      <td>AirAsia</td>\n",
       "      <td>I5-764</td>\n",
       "      <td>Delhi</td>\n",
       "      <td>Early_Morning</td>\n",
       "      <td>zero</td>\n",
       "      <td>Early_Morning</td>\n",
       "      <td>Mumbai</td>\n",
       "      <td>Economy</td>\n",
       "      <td>2.17</td>\n",
       "      <td>1</td>\n",
       "      <td>5956</td>\n",
       "    </tr>\n",
       "    <tr>\n",
       "      <th>3</th>\n",
       "      <td>Vistara</td>\n",
       "      <td>UK-995</td>\n",
       "      <td>Delhi</td>\n",
       "      <td>Morning</td>\n",
       "      <td>zero</td>\n",
       "      <td>Afternoon</td>\n",
       "      <td>Mumbai</td>\n",
       "      <td>Economy</td>\n",
       "      <td>2.25</td>\n",
       "      <td>1</td>\n",
       "      <td>5955</td>\n",
       "    </tr>\n",
       "    <tr>\n",
       "      <th>4</th>\n",
       "      <td>Vistara</td>\n",
       "      <td>UK-963</td>\n",
       "      <td>Delhi</td>\n",
       "      <td>Morning</td>\n",
       "      <td>zero</td>\n",
       "      <td>Morning</td>\n",
       "      <td>Mumbai</td>\n",
       "      <td>Economy</td>\n",
       "      <td>2.33</td>\n",
       "      <td>1</td>\n",
       "      <td>5955</td>\n",
       "    </tr>\n",
       "  </tbody>\n",
       "</table>\n",
       "</div>"
      ],
      "text/plain": [
       "    airline   flight source_city departure_time stops   arrival_time  \\\n",
       "0  SpiceJet  SG-8709       Delhi        Evening  zero          Night   \n",
       "1  SpiceJet  SG-8157       Delhi  Early_Morning  zero        Morning   \n",
       "2   AirAsia   I5-764       Delhi  Early_Morning  zero  Early_Morning   \n",
       "3   Vistara   UK-995       Delhi        Morning  zero      Afternoon   \n",
       "4   Vistara   UK-963       Delhi        Morning  zero        Morning   \n",
       "\n",
       "  destination_city    class  duration  days_left  price  \n",
       "0           Mumbai  Economy      2.17          1   5953  \n",
       "1           Mumbai  Economy      2.33          1   5953  \n",
       "2           Mumbai  Economy      2.17          1   5956  \n",
       "3           Mumbai  Economy      2.25          1   5955  \n",
       "4           Mumbai  Economy      2.33          1   5955  "
      ]
     },
     "execution_count": 15,
     "metadata": {},
     "output_type": "execute_result"
    }
   ],
   "source": [
    "clean_data.head()"
   ]
  },
  {
   "cell_type": "code",
   "execution_count": 16,
   "id": "20215fc8",
   "metadata": {
    "execution": {
     "iopub.execute_input": "2022-03-01T11:56:19.254850Z",
     "iopub.status.busy": "2022-03-01T11:56:19.254218Z",
     "iopub.status.idle": "2022-03-01T11:56:19.280831Z",
     "shell.execute_reply": "2022-03-01T11:56:19.281339Z",
     "shell.execute_reply.started": "2022-03-01T11:24:30.488066Z"
    },
    "papermill": {
     "duration": 0.086351,
     "end_time": "2022-03-01T11:56:19.281526",
     "exception": false,
     "start_time": "2022-03-01T11:56:19.195175",
     "status": "completed"
    },
    "tags": []
   },
   "outputs": [],
   "source": [
    "clean_data.drop('flight', axis=1, inplace=True)"
   ]
  },
  {
   "cell_type": "code",
   "execution_count": 17,
   "id": "0b276964",
   "metadata": {
    "execution": {
     "iopub.execute_input": "2022-03-01T11:56:19.397229Z",
     "iopub.status.busy": "2022-03-01T11:56:19.396566Z",
     "iopub.status.idle": "2022-03-01T11:56:19.411660Z",
     "shell.execute_reply": "2022-03-01T11:56:19.412158Z",
     "shell.execute_reply.started": "2022-03-01T11:24:30.522281Z"
    },
    "papermill": {
     "duration": 0.074599,
     "end_time": "2022-03-01T11:56:19.412346",
     "exception": false,
     "start_time": "2022-03-01T11:56:19.337747",
     "status": "completed"
    },
    "tags": []
   },
   "outputs": [
    {
     "data": {
      "text/html": [
       "<div>\n",
       "<style scoped>\n",
       "    .dataframe tbody tr th:only-of-type {\n",
       "        vertical-align: middle;\n",
       "    }\n",
       "\n",
       "    .dataframe tbody tr th {\n",
       "        vertical-align: top;\n",
       "    }\n",
       "\n",
       "    .dataframe thead th {\n",
       "        text-align: right;\n",
       "    }\n",
       "</style>\n",
       "<table border=\"1\" class=\"dataframe\">\n",
       "  <thead>\n",
       "    <tr style=\"text-align: right;\">\n",
       "      <th></th>\n",
       "      <th>airline</th>\n",
       "      <th>source_city</th>\n",
       "      <th>departure_time</th>\n",
       "      <th>stops</th>\n",
       "      <th>arrival_time</th>\n",
       "      <th>destination_city</th>\n",
       "      <th>class</th>\n",
       "      <th>duration</th>\n",
       "      <th>days_left</th>\n",
       "      <th>price</th>\n",
       "    </tr>\n",
       "  </thead>\n",
       "  <tbody>\n",
       "    <tr>\n",
       "      <th>0</th>\n",
       "      <td>SpiceJet</td>\n",
       "      <td>Delhi</td>\n",
       "      <td>Evening</td>\n",
       "      <td>zero</td>\n",
       "      <td>Night</td>\n",
       "      <td>Mumbai</td>\n",
       "      <td>Economy</td>\n",
       "      <td>2.17</td>\n",
       "      <td>1</td>\n",
       "      <td>5953</td>\n",
       "    </tr>\n",
       "    <tr>\n",
       "      <th>1</th>\n",
       "      <td>SpiceJet</td>\n",
       "      <td>Delhi</td>\n",
       "      <td>Early_Morning</td>\n",
       "      <td>zero</td>\n",
       "      <td>Morning</td>\n",
       "      <td>Mumbai</td>\n",
       "      <td>Economy</td>\n",
       "      <td>2.33</td>\n",
       "      <td>1</td>\n",
       "      <td>5953</td>\n",
       "    </tr>\n",
       "    <tr>\n",
       "      <th>2</th>\n",
       "      <td>AirAsia</td>\n",
       "      <td>Delhi</td>\n",
       "      <td>Early_Morning</td>\n",
       "      <td>zero</td>\n",
       "      <td>Early_Morning</td>\n",
       "      <td>Mumbai</td>\n",
       "      <td>Economy</td>\n",
       "      <td>2.17</td>\n",
       "      <td>1</td>\n",
       "      <td>5956</td>\n",
       "    </tr>\n",
       "    <tr>\n",
       "      <th>3</th>\n",
       "      <td>Vistara</td>\n",
       "      <td>Delhi</td>\n",
       "      <td>Morning</td>\n",
       "      <td>zero</td>\n",
       "      <td>Afternoon</td>\n",
       "      <td>Mumbai</td>\n",
       "      <td>Economy</td>\n",
       "      <td>2.25</td>\n",
       "      <td>1</td>\n",
       "      <td>5955</td>\n",
       "    </tr>\n",
       "    <tr>\n",
       "      <th>4</th>\n",
       "      <td>Vistara</td>\n",
       "      <td>Delhi</td>\n",
       "      <td>Morning</td>\n",
       "      <td>zero</td>\n",
       "      <td>Morning</td>\n",
       "      <td>Mumbai</td>\n",
       "      <td>Economy</td>\n",
       "      <td>2.33</td>\n",
       "      <td>1</td>\n",
       "      <td>5955</td>\n",
       "    </tr>\n",
       "  </tbody>\n",
       "</table>\n",
       "</div>"
      ],
      "text/plain": [
       "    airline source_city departure_time stops   arrival_time destination_city  \\\n",
       "0  SpiceJet       Delhi        Evening  zero          Night           Mumbai   \n",
       "1  SpiceJet       Delhi  Early_Morning  zero        Morning           Mumbai   \n",
       "2   AirAsia       Delhi  Early_Morning  zero  Early_Morning           Mumbai   \n",
       "3   Vistara       Delhi        Morning  zero      Afternoon           Mumbai   \n",
       "4   Vistara       Delhi        Morning  zero        Morning           Mumbai   \n",
       "\n",
       "     class  duration  days_left  price  \n",
       "0  Economy      2.17          1   5953  \n",
       "1  Economy      2.33          1   5953  \n",
       "2  Economy      2.17          1   5956  \n",
       "3  Economy      2.25          1   5955  \n",
       "4  Economy      2.33          1   5955  "
      ]
     },
     "execution_count": 17,
     "metadata": {},
     "output_type": "execute_result"
    }
   ],
   "source": [
    "clean_data.head()"
   ]
  },
  {
   "cell_type": "code",
   "execution_count": 18,
   "id": "004d6522",
   "metadata": {
    "execution": {
     "iopub.execute_input": "2022-03-01T11:56:19.530262Z",
     "iopub.status.busy": "2022-03-01T11:56:19.529230Z",
     "iopub.status.idle": "2022-03-01T11:56:19.842052Z",
     "shell.execute_reply": "2022-03-01T11:56:19.842638Z",
     "shell.execute_reply.started": "2022-03-01T11:24:30.542042Z"
    },
    "papermill": {
     "duration": 0.37387,
     "end_time": "2022-03-01T11:56:19.842809",
     "exception": false,
     "start_time": "2022-03-01T11:56:19.468939",
     "status": "completed"
    },
    "tags": []
   },
   "outputs": [
    {
     "data": {
      "text/html": [
       "<div>\n",
       "<style scoped>\n",
       "    .dataframe tbody tr th:only-of-type {\n",
       "        vertical-align: middle;\n",
       "    }\n",
       "\n",
       "    .dataframe tbody tr th {\n",
       "        vertical-align: top;\n",
       "    }\n",
       "\n",
       "    .dataframe thead th {\n",
       "        text-align: right;\n",
       "    }\n",
       "</style>\n",
       "<table border=\"1\" class=\"dataframe\">\n",
       "  <thead>\n",
       "    <tr style=\"text-align: right;\">\n",
       "      <th></th>\n",
       "      <th>airline_AirAsia</th>\n",
       "      <th>airline_Air_India</th>\n",
       "      <th>airline_GO_FIRST</th>\n",
       "      <th>airline_Indigo</th>\n",
       "      <th>airline_SpiceJet</th>\n",
       "      <th>airline_Vistara</th>\n",
       "      <th>source_city_Bangalore</th>\n",
       "      <th>source_city_Chennai</th>\n",
       "      <th>source_city_Delhi</th>\n",
       "      <th>source_city_Hyderabad</th>\n",
       "      <th>...</th>\n",
       "      <th>arrival_time_Morning</th>\n",
       "      <th>arrival_time_Night</th>\n",
       "      <th>class_Business</th>\n",
       "      <th>class_Economy</th>\n",
       "      <th>destination_city_Bangalore</th>\n",
       "      <th>destination_city_Chennai</th>\n",
       "      <th>destination_city_Delhi</th>\n",
       "      <th>destination_city_Hyderabad</th>\n",
       "      <th>destination_city_Kolkata</th>\n",
       "      <th>destination_city_Mumbai</th>\n",
       "    </tr>\n",
       "  </thead>\n",
       "  <tbody>\n",
       "    <tr>\n",
       "      <th>0</th>\n",
       "      <td>0</td>\n",
       "      <td>0</td>\n",
       "      <td>0</td>\n",
       "      <td>0</td>\n",
       "      <td>1</td>\n",
       "      <td>0</td>\n",
       "      <td>0</td>\n",
       "      <td>0</td>\n",
       "      <td>1</td>\n",
       "      <td>0</td>\n",
       "      <td>...</td>\n",
       "      <td>0</td>\n",
       "      <td>1</td>\n",
       "      <td>0</td>\n",
       "      <td>1</td>\n",
       "      <td>0</td>\n",
       "      <td>0</td>\n",
       "      <td>0</td>\n",
       "      <td>0</td>\n",
       "      <td>0</td>\n",
       "      <td>1</td>\n",
       "    </tr>\n",
       "    <tr>\n",
       "      <th>1</th>\n",
       "      <td>0</td>\n",
       "      <td>0</td>\n",
       "      <td>0</td>\n",
       "      <td>0</td>\n",
       "      <td>1</td>\n",
       "      <td>0</td>\n",
       "      <td>0</td>\n",
       "      <td>0</td>\n",
       "      <td>1</td>\n",
       "      <td>0</td>\n",
       "      <td>...</td>\n",
       "      <td>1</td>\n",
       "      <td>0</td>\n",
       "      <td>0</td>\n",
       "      <td>1</td>\n",
       "      <td>0</td>\n",
       "      <td>0</td>\n",
       "      <td>0</td>\n",
       "      <td>0</td>\n",
       "      <td>0</td>\n",
       "      <td>1</td>\n",
       "    </tr>\n",
       "    <tr>\n",
       "      <th>2</th>\n",
       "      <td>1</td>\n",
       "      <td>0</td>\n",
       "      <td>0</td>\n",
       "      <td>0</td>\n",
       "      <td>0</td>\n",
       "      <td>0</td>\n",
       "      <td>0</td>\n",
       "      <td>0</td>\n",
       "      <td>1</td>\n",
       "      <td>0</td>\n",
       "      <td>...</td>\n",
       "      <td>0</td>\n",
       "      <td>0</td>\n",
       "      <td>0</td>\n",
       "      <td>1</td>\n",
       "      <td>0</td>\n",
       "      <td>0</td>\n",
       "      <td>0</td>\n",
       "      <td>0</td>\n",
       "      <td>0</td>\n",
       "      <td>1</td>\n",
       "    </tr>\n",
       "    <tr>\n",
       "      <th>3</th>\n",
       "      <td>0</td>\n",
       "      <td>0</td>\n",
       "      <td>0</td>\n",
       "      <td>0</td>\n",
       "      <td>0</td>\n",
       "      <td>1</td>\n",
       "      <td>0</td>\n",
       "      <td>0</td>\n",
       "      <td>1</td>\n",
       "      <td>0</td>\n",
       "      <td>...</td>\n",
       "      <td>0</td>\n",
       "      <td>0</td>\n",
       "      <td>0</td>\n",
       "      <td>1</td>\n",
       "      <td>0</td>\n",
       "      <td>0</td>\n",
       "      <td>0</td>\n",
       "      <td>0</td>\n",
       "      <td>0</td>\n",
       "      <td>1</td>\n",
       "    </tr>\n",
       "    <tr>\n",
       "      <th>4</th>\n",
       "      <td>0</td>\n",
       "      <td>0</td>\n",
       "      <td>0</td>\n",
       "      <td>0</td>\n",
       "      <td>0</td>\n",
       "      <td>1</td>\n",
       "      <td>0</td>\n",
       "      <td>0</td>\n",
       "      <td>1</td>\n",
       "      <td>0</td>\n",
       "      <td>...</td>\n",
       "      <td>1</td>\n",
       "      <td>0</td>\n",
       "      <td>0</td>\n",
       "      <td>1</td>\n",
       "      <td>0</td>\n",
       "      <td>0</td>\n",
       "      <td>0</td>\n",
       "      <td>0</td>\n",
       "      <td>0</td>\n",
       "      <td>1</td>\n",
       "    </tr>\n",
       "  </tbody>\n",
       "</table>\n",
       "<p>5 rows × 35 columns</p>\n",
       "</div>"
      ],
      "text/plain": [
       "   airline_AirAsia  airline_Air_India  airline_GO_FIRST  airline_Indigo  \\\n",
       "0                0                  0                 0               0   \n",
       "1                0                  0                 0               0   \n",
       "2                1                  0                 0               0   \n",
       "3                0                  0                 0               0   \n",
       "4                0                  0                 0               0   \n",
       "\n",
       "   airline_SpiceJet  airline_Vistara  source_city_Bangalore  \\\n",
       "0                 1                0                      0   \n",
       "1                 1                0                      0   \n",
       "2                 0                0                      0   \n",
       "3                 0                1                      0   \n",
       "4                 0                1                      0   \n",
       "\n",
       "   source_city_Chennai  source_city_Delhi  source_city_Hyderabad  ...  \\\n",
       "0                    0                  1                      0  ...   \n",
       "1                    0                  1                      0  ...   \n",
       "2                    0                  1                      0  ...   \n",
       "3                    0                  1                      0  ...   \n",
       "4                    0                  1                      0  ...   \n",
       "\n",
       "   arrival_time_Morning  arrival_time_Night  class_Business  class_Economy  \\\n",
       "0                     0                   1               0              1   \n",
       "1                     1                   0               0              1   \n",
       "2                     0                   0               0              1   \n",
       "3                     0                   0               0              1   \n",
       "4                     1                   0               0              1   \n",
       "\n",
       "   destination_city_Bangalore  destination_city_Chennai  \\\n",
       "0                           0                         0   \n",
       "1                           0                         0   \n",
       "2                           0                         0   \n",
       "3                           0                         0   \n",
       "4                           0                         0   \n",
       "\n",
       "   destination_city_Delhi  destination_city_Hyderabad  \\\n",
       "0                       0                           0   \n",
       "1                       0                           0   \n",
       "2                       0                           0   \n",
       "3                       0                           0   \n",
       "4                       0                           0   \n",
       "\n",
       "   destination_city_Kolkata  destination_city_Mumbai  \n",
       "0                         0                        1  \n",
       "1                         0                        1  \n",
       "2                         0                        1  \n",
       "3                         0                        1  \n",
       "4                         0                        1  \n",
       "\n",
       "[5 rows x 35 columns]"
      ]
     },
     "execution_count": 18,
     "metadata": {},
     "output_type": "execute_result"
    }
   ],
   "source": [
    "dummies_data = pd.get_dummies(clean_data[['airline','source_city','departure_time','stops','arrival_time','class', 'destination_city']])\n",
    "dummies_data.head()"
   ]
  },
  {
   "cell_type": "code",
   "execution_count": 19,
   "id": "cca7b383",
   "metadata": {
    "execution": {
     "iopub.execute_input": "2022-03-01T11:56:19.972607Z",
     "iopub.status.busy": "2022-03-01T11:56:19.970826Z",
     "iopub.status.idle": "2022-03-01T11:56:20.118085Z",
     "shell.execute_reply": "2022-03-01T11:56:20.118634Z",
     "shell.execute_reply.started": "2022-03-01T11:24:30.824938Z"
    },
    "papermill": {
     "duration": 0.215497,
     "end_time": "2022-03-01T11:56:20.118822",
     "exception": false,
     "start_time": "2022-03-01T11:56:19.903325",
     "status": "completed"
    },
    "tags": []
   },
   "outputs": [
    {
     "data": {
      "text/html": [
       "<div>\n",
       "<style scoped>\n",
       "    .dataframe tbody tr th:only-of-type {\n",
       "        vertical-align: middle;\n",
       "    }\n",
       "\n",
       "    .dataframe tbody tr th {\n",
       "        vertical-align: top;\n",
       "    }\n",
       "\n",
       "    .dataframe thead th {\n",
       "        text-align: right;\n",
       "    }\n",
       "</style>\n",
       "<table border=\"1\" class=\"dataframe\">\n",
       "  <thead>\n",
       "    <tr style=\"text-align: right;\">\n",
       "      <th></th>\n",
       "      <th>duration</th>\n",
       "      <th>days_left</th>\n",
       "      <th>price</th>\n",
       "      <th>airline_AirAsia</th>\n",
       "      <th>airline_Air_India</th>\n",
       "      <th>airline_GO_FIRST</th>\n",
       "      <th>airline_Indigo</th>\n",
       "      <th>airline_SpiceJet</th>\n",
       "      <th>airline_Vistara</th>\n",
       "      <th>source_city_Bangalore</th>\n",
       "      <th>...</th>\n",
       "      <th>arrival_time_Morning</th>\n",
       "      <th>arrival_time_Night</th>\n",
       "      <th>class_Business</th>\n",
       "      <th>class_Economy</th>\n",
       "      <th>destination_city_Bangalore</th>\n",
       "      <th>destination_city_Chennai</th>\n",
       "      <th>destination_city_Delhi</th>\n",
       "      <th>destination_city_Hyderabad</th>\n",
       "      <th>destination_city_Kolkata</th>\n",
       "      <th>destination_city_Mumbai</th>\n",
       "    </tr>\n",
       "  </thead>\n",
       "  <tbody>\n",
       "    <tr>\n",
       "      <th>0</th>\n",
       "      <td>2.17</td>\n",
       "      <td>1</td>\n",
       "      <td>5953</td>\n",
       "      <td>0</td>\n",
       "      <td>0</td>\n",
       "      <td>0</td>\n",
       "      <td>0</td>\n",
       "      <td>1</td>\n",
       "      <td>0</td>\n",
       "      <td>0</td>\n",
       "      <td>...</td>\n",
       "      <td>0</td>\n",
       "      <td>1</td>\n",
       "      <td>0</td>\n",
       "      <td>1</td>\n",
       "      <td>0</td>\n",
       "      <td>0</td>\n",
       "      <td>0</td>\n",
       "      <td>0</td>\n",
       "      <td>0</td>\n",
       "      <td>1</td>\n",
       "    </tr>\n",
       "    <tr>\n",
       "      <th>1</th>\n",
       "      <td>2.33</td>\n",
       "      <td>1</td>\n",
       "      <td>5953</td>\n",
       "      <td>0</td>\n",
       "      <td>0</td>\n",
       "      <td>0</td>\n",
       "      <td>0</td>\n",
       "      <td>1</td>\n",
       "      <td>0</td>\n",
       "      <td>0</td>\n",
       "      <td>...</td>\n",
       "      <td>1</td>\n",
       "      <td>0</td>\n",
       "      <td>0</td>\n",
       "      <td>1</td>\n",
       "      <td>0</td>\n",
       "      <td>0</td>\n",
       "      <td>0</td>\n",
       "      <td>0</td>\n",
       "      <td>0</td>\n",
       "      <td>1</td>\n",
       "    </tr>\n",
       "    <tr>\n",
       "      <th>2</th>\n",
       "      <td>2.17</td>\n",
       "      <td>1</td>\n",
       "      <td>5956</td>\n",
       "      <td>1</td>\n",
       "      <td>0</td>\n",
       "      <td>0</td>\n",
       "      <td>0</td>\n",
       "      <td>0</td>\n",
       "      <td>0</td>\n",
       "      <td>0</td>\n",
       "      <td>...</td>\n",
       "      <td>0</td>\n",
       "      <td>0</td>\n",
       "      <td>0</td>\n",
       "      <td>1</td>\n",
       "      <td>0</td>\n",
       "      <td>0</td>\n",
       "      <td>0</td>\n",
       "      <td>0</td>\n",
       "      <td>0</td>\n",
       "      <td>1</td>\n",
       "    </tr>\n",
       "    <tr>\n",
       "      <th>3</th>\n",
       "      <td>2.25</td>\n",
       "      <td>1</td>\n",
       "      <td>5955</td>\n",
       "      <td>0</td>\n",
       "      <td>0</td>\n",
       "      <td>0</td>\n",
       "      <td>0</td>\n",
       "      <td>0</td>\n",
       "      <td>1</td>\n",
       "      <td>0</td>\n",
       "      <td>...</td>\n",
       "      <td>0</td>\n",
       "      <td>0</td>\n",
       "      <td>0</td>\n",
       "      <td>1</td>\n",
       "      <td>0</td>\n",
       "      <td>0</td>\n",
       "      <td>0</td>\n",
       "      <td>0</td>\n",
       "      <td>0</td>\n",
       "      <td>1</td>\n",
       "    </tr>\n",
       "    <tr>\n",
       "      <th>4</th>\n",
       "      <td>2.33</td>\n",
       "      <td>1</td>\n",
       "      <td>5955</td>\n",
       "      <td>0</td>\n",
       "      <td>0</td>\n",
       "      <td>0</td>\n",
       "      <td>0</td>\n",
       "      <td>0</td>\n",
       "      <td>1</td>\n",
       "      <td>0</td>\n",
       "      <td>...</td>\n",
       "      <td>1</td>\n",
       "      <td>0</td>\n",
       "      <td>0</td>\n",
       "      <td>1</td>\n",
       "      <td>0</td>\n",
       "      <td>0</td>\n",
       "      <td>0</td>\n",
       "      <td>0</td>\n",
       "      <td>0</td>\n",
       "      <td>1</td>\n",
       "    </tr>\n",
       "    <tr>\n",
       "      <th>5</th>\n",
       "      <td>2.33</td>\n",
       "      <td>1</td>\n",
       "      <td>5955</td>\n",
       "      <td>0</td>\n",
       "      <td>0</td>\n",
       "      <td>0</td>\n",
       "      <td>0</td>\n",
       "      <td>0</td>\n",
       "      <td>1</td>\n",
       "      <td>0</td>\n",
       "      <td>...</td>\n",
       "      <td>0</td>\n",
       "      <td>0</td>\n",
       "      <td>0</td>\n",
       "      <td>1</td>\n",
       "      <td>0</td>\n",
       "      <td>0</td>\n",
       "      <td>0</td>\n",
       "      <td>0</td>\n",
       "      <td>0</td>\n",
       "      <td>1</td>\n",
       "    </tr>\n",
       "    <tr>\n",
       "      <th>6</th>\n",
       "      <td>2.08</td>\n",
       "      <td>1</td>\n",
       "      <td>6060</td>\n",
       "      <td>0</td>\n",
       "      <td>0</td>\n",
       "      <td>0</td>\n",
       "      <td>0</td>\n",
       "      <td>0</td>\n",
       "      <td>1</td>\n",
       "      <td>0</td>\n",
       "      <td>...</td>\n",
       "      <td>1</td>\n",
       "      <td>0</td>\n",
       "      <td>0</td>\n",
       "      <td>1</td>\n",
       "      <td>0</td>\n",
       "      <td>0</td>\n",
       "      <td>0</td>\n",
       "      <td>0</td>\n",
       "      <td>0</td>\n",
       "      <td>1</td>\n",
       "    </tr>\n",
       "    <tr>\n",
       "      <th>7</th>\n",
       "      <td>2.17</td>\n",
       "      <td>1</td>\n",
       "      <td>6060</td>\n",
       "      <td>0</td>\n",
       "      <td>0</td>\n",
       "      <td>0</td>\n",
       "      <td>0</td>\n",
       "      <td>0</td>\n",
       "      <td>1</td>\n",
       "      <td>0</td>\n",
       "      <td>...</td>\n",
       "      <td>0</td>\n",
       "      <td>0</td>\n",
       "      <td>0</td>\n",
       "      <td>1</td>\n",
       "      <td>0</td>\n",
       "      <td>0</td>\n",
       "      <td>0</td>\n",
       "      <td>0</td>\n",
       "      <td>0</td>\n",
       "      <td>1</td>\n",
       "    </tr>\n",
       "    <tr>\n",
       "      <th>8</th>\n",
       "      <td>2.17</td>\n",
       "      <td>1</td>\n",
       "      <td>5954</td>\n",
       "      <td>0</td>\n",
       "      <td>0</td>\n",
       "      <td>1</td>\n",
       "      <td>0</td>\n",
       "      <td>0</td>\n",
       "      <td>0</td>\n",
       "      <td>0</td>\n",
       "      <td>...</td>\n",
       "      <td>1</td>\n",
       "      <td>0</td>\n",
       "      <td>0</td>\n",
       "      <td>1</td>\n",
       "      <td>0</td>\n",
       "      <td>0</td>\n",
       "      <td>0</td>\n",
       "      <td>0</td>\n",
       "      <td>0</td>\n",
       "      <td>1</td>\n",
       "    </tr>\n",
       "    <tr>\n",
       "      <th>9</th>\n",
       "      <td>2.25</td>\n",
       "      <td>1</td>\n",
       "      <td>5954</td>\n",
       "      <td>0</td>\n",
       "      <td>0</td>\n",
       "      <td>1</td>\n",
       "      <td>0</td>\n",
       "      <td>0</td>\n",
       "      <td>0</td>\n",
       "      <td>0</td>\n",
       "      <td>...</td>\n",
       "      <td>0</td>\n",
       "      <td>0</td>\n",
       "      <td>0</td>\n",
       "      <td>1</td>\n",
       "      <td>0</td>\n",
       "      <td>0</td>\n",
       "      <td>0</td>\n",
       "      <td>0</td>\n",
       "      <td>0</td>\n",
       "      <td>1</td>\n",
       "    </tr>\n",
       "  </tbody>\n",
       "</table>\n",
       "<p>10 rows × 38 columns</p>\n",
       "</div>"
      ],
      "text/plain": [
       "   duration  days_left  price  airline_AirAsia  airline_Air_India  \\\n",
       "0      2.17          1   5953                0                  0   \n",
       "1      2.33          1   5953                0                  0   \n",
       "2      2.17          1   5956                1                  0   \n",
       "3      2.25          1   5955                0                  0   \n",
       "4      2.33          1   5955                0                  0   \n",
       "5      2.33          1   5955                0                  0   \n",
       "6      2.08          1   6060                0                  0   \n",
       "7      2.17          1   6060                0                  0   \n",
       "8      2.17          1   5954                0                  0   \n",
       "9      2.25          1   5954                0                  0   \n",
       "\n",
       "   airline_GO_FIRST  airline_Indigo  airline_SpiceJet  airline_Vistara  \\\n",
       "0                 0               0                 1                0   \n",
       "1                 0               0                 1                0   \n",
       "2                 0               0                 0                0   \n",
       "3                 0               0                 0                1   \n",
       "4                 0               0                 0                1   \n",
       "5                 0               0                 0                1   \n",
       "6                 0               0                 0                1   \n",
       "7                 0               0                 0                1   \n",
       "8                 1               0                 0                0   \n",
       "9                 1               0                 0                0   \n",
       "\n",
       "   source_city_Bangalore  ...  arrival_time_Morning  arrival_time_Night  \\\n",
       "0                      0  ...                     0                   1   \n",
       "1                      0  ...                     1                   0   \n",
       "2                      0  ...                     0                   0   \n",
       "3                      0  ...                     0                   0   \n",
       "4                      0  ...                     1                   0   \n",
       "5                      0  ...                     0                   0   \n",
       "6                      0  ...                     1                   0   \n",
       "7                      0  ...                     0                   0   \n",
       "8                      0  ...                     1                   0   \n",
       "9                      0  ...                     0                   0   \n",
       "\n",
       "   class_Business  class_Economy  destination_city_Bangalore  \\\n",
       "0               0              1                           0   \n",
       "1               0              1                           0   \n",
       "2               0              1                           0   \n",
       "3               0              1                           0   \n",
       "4               0              1                           0   \n",
       "5               0              1                           0   \n",
       "6               0              1                           0   \n",
       "7               0              1                           0   \n",
       "8               0              1                           0   \n",
       "9               0              1                           0   \n",
       "\n",
       "   destination_city_Chennai  destination_city_Delhi  \\\n",
       "0                         0                       0   \n",
       "1                         0                       0   \n",
       "2                         0                       0   \n",
       "3                         0                       0   \n",
       "4                         0                       0   \n",
       "5                         0                       0   \n",
       "6                         0                       0   \n",
       "7                         0                       0   \n",
       "8                         0                       0   \n",
       "9                         0                       0   \n",
       "\n",
       "   destination_city_Hyderabad  destination_city_Kolkata  \\\n",
       "0                           0                         0   \n",
       "1                           0                         0   \n",
       "2                           0                         0   \n",
       "3                           0                         0   \n",
       "4                           0                         0   \n",
       "5                           0                         0   \n",
       "6                           0                         0   \n",
       "7                           0                         0   \n",
       "8                           0                         0   \n",
       "9                           0                         0   \n",
       "\n",
       "   destination_city_Mumbai  \n",
       "0                        1  \n",
       "1                        1  \n",
       "2                        1  \n",
       "3                        1  \n",
       "4                        1  \n",
       "5                        1  \n",
       "6                        1  \n",
       "7                        1  \n",
       "8                        1  \n",
       "9                        1  \n",
       "\n",
       "[10 rows x 38 columns]"
      ]
     },
     "execution_count": 19,
     "metadata": {},
     "output_type": "execute_result"
    }
   ],
   "source": [
    "new_data = pd.concat([clean_data.drop(['airline','source_city','departure_time','stops','arrival_time','class', 'destination_city'], axis=1), dummies_data], axis=1)\n",
    "new_data.head(10)"
   ]
  },
  {
   "cell_type": "code",
   "execution_count": 20,
   "id": "0fd2cabd",
   "metadata": {
    "execution": {
     "iopub.execute_input": "2022-03-01T11:56:20.244502Z",
     "iopub.status.busy": "2022-03-01T11:56:20.243038Z",
     "iopub.status.idle": "2022-03-01T11:56:20.262488Z",
     "shell.execute_reply": "2022-03-01T11:56:20.261891Z",
     "shell.execute_reply.started": "2022-03-01T11:24:30.969533Z"
    },
    "papermill": {
     "duration": 0.084821,
     "end_time": "2022-03-01T11:56:20.262632",
     "exception": false,
     "start_time": "2022-03-01T11:56:20.177811",
     "status": "completed"
    },
    "tags": []
   },
   "outputs": [],
   "source": [
    "data = new_data.drop('price', axis=1)\n",
    "labels = new_data['price']"
   ]
  },
  {
   "cell_type": "code",
   "execution_count": 21,
   "id": "baa0364a",
   "metadata": {
    "execution": {
     "iopub.execute_input": "2022-03-01T11:56:20.385740Z",
     "iopub.status.busy": "2022-03-01T11:56:20.384556Z",
     "iopub.status.idle": "2022-03-01T11:56:20.478839Z",
     "shell.execute_reply": "2022-03-01T11:56:20.478169Z",
     "shell.execute_reply.started": "2022-03-01T11:24:30.989930Z"
    },
    "papermill": {
     "duration": 0.158062,
     "end_time": "2022-03-01T11:56:20.478978",
     "exception": false,
     "start_time": "2022-03-01T11:56:20.320916",
     "status": "completed"
    },
    "tags": []
   },
   "outputs": [],
   "source": [
    "data = np.array(data).astype('float32')\n",
    "labels = np.array(labels).astype('float32')\n",
    "# labels = labels.reshape(-1,1)"
   ]
  },
  {
   "cell_type": "code",
   "execution_count": 22,
   "id": "212f3c54",
   "metadata": {
    "execution": {
     "iopub.execute_input": "2022-03-01T11:56:20.600414Z",
     "iopub.status.busy": "2022-03-01T11:56:20.599705Z",
     "iopub.status.idle": "2022-03-01T11:56:20.762505Z",
     "shell.execute_reply": "2022-03-01T11:56:20.761856Z",
     "shell.execute_reply.started": "2022-03-01T11:24:31.097725Z"
    },
    "papermill": {
     "duration": 0.225453,
     "end_time": "2022-03-01T11:56:20.762645",
     "exception": false,
     "start_time": "2022-03-01T11:56:20.537192",
     "status": "completed"
    },
    "tags": []
   },
   "outputs": [],
   "source": [
    "from sklearn.model_selection import train_test_split"
   ]
  },
  {
   "cell_type": "code",
   "execution_count": 23,
   "id": "783a3bf5",
   "metadata": {
    "execution": {
     "iopub.execute_input": "2022-03-01T11:56:20.902443Z",
     "iopub.status.busy": "2022-03-01T11:56:20.901007Z",
     "iopub.status.idle": "2022-03-01T11:56:21.048166Z",
     "shell.execute_reply": "2022-03-01T11:56:21.047573Z",
     "shell.execute_reply.started": "2022-03-01T11:24:31.260116Z"
    },
    "papermill": {
     "duration": 0.226926,
     "end_time": "2022-03-01T11:56:21.048320",
     "exception": false,
     "start_time": "2022-03-01T11:56:20.821394",
     "status": "completed"
    },
    "tags": []
   },
   "outputs": [],
   "source": [
    "X_train, X_test, y_train, y_test = train_test_split(data, labels, test_size=0.2, random_state=42, shuffle=True)"
   ]
  },
  {
   "cell_type": "code",
   "execution_count": 24,
   "id": "58706a9f",
   "metadata": {
    "execution": {
     "iopub.execute_input": "2022-03-01T11:56:21.172206Z",
     "iopub.status.busy": "2022-03-01T11:56:21.171530Z",
     "iopub.status.idle": "2022-03-01T11:56:21.174558Z",
     "shell.execute_reply": "2022-03-01T11:56:21.174040Z",
     "shell.execute_reply.started": "2022-03-01T11:24:31.389962Z"
    },
    "papermill": {
     "duration": 0.066871,
     "end_time": "2022-03-01T11:56:21.174694",
     "exception": false,
     "start_time": "2022-03-01T11:56:21.107823",
     "status": "completed"
    },
    "tags": []
   },
   "outputs": [
    {
     "data": {
      "text/plain": [
       "(240122,)"
      ]
     },
     "execution_count": 24,
     "metadata": {},
     "output_type": "execute_result"
    }
   ],
   "source": [
    "y_train.shape"
   ]
  },
  {
   "cell_type": "code",
   "execution_count": 25,
   "id": "15aabd07",
   "metadata": {
    "execution": {
     "iopub.execute_input": "2022-03-01T11:56:21.299331Z",
     "iopub.status.busy": "2022-03-01T11:56:21.298536Z",
     "iopub.status.idle": "2022-03-01T11:56:21.300958Z",
     "shell.execute_reply": "2022-03-01T11:56:21.300289Z",
     "shell.execute_reply.started": "2022-03-01T11:24:31.396027Z"
    },
    "papermill": {
     "duration": 0.066324,
     "end_time": "2022-03-01T11:56:21.301137",
     "exception": false,
     "start_time": "2022-03-01T11:56:21.234813",
     "status": "completed"
    },
    "tags": []
   },
   "outputs": [],
   "source": [
    "def display_scores(scores):\n",
    "    print(\"Scores:\", scores)\n",
    "    print(\"Mean:\", scores.mean())\n",
    "    print(\"Standard Deviation:\", scores.std())"
   ]
  },
  {
   "cell_type": "code",
   "execution_count": 26,
   "id": "76073a4e",
   "metadata": {
    "execution": {
     "iopub.execute_input": "2022-03-01T11:56:21.452625Z",
     "iopub.status.busy": "2022-03-01T11:56:21.451872Z",
     "iopub.status.idle": "2022-03-01T11:56:21.454187Z",
     "shell.execute_reply": "2022-03-01T11:56:21.453584Z",
     "shell.execute_reply.started": "2022-03-01T11:24:31.411341Z"
    },
    "papermill": {
     "duration": 0.080071,
     "end_time": "2022-03-01T11:56:21.454334",
     "exception": false,
     "start_time": "2022-03-01T11:56:21.374263",
     "status": "completed"
    },
    "tags": []
   },
   "outputs": [],
   "source": [
    "#rmse score calculation\n",
    "def rmse(y_pred, y_actual):\n",
    "    return np.sqrt(np.sum((y_pred-y_actual)**2)/y_actual.shape[0])"
   ]
  },
  {
   "cell_type": "markdown",
   "id": "49db65b9",
   "metadata": {
    "papermill": {
     "duration": 0.058651,
     "end_time": "2022-03-01T11:56:21.572154",
     "exception": false,
     "start_time": "2022-03-01T11:56:21.513503",
     "status": "completed"
    },
    "tags": []
   },
   "source": [
    "## Linear Regression"
   ]
  },
  {
   "cell_type": "code",
   "execution_count": 27,
   "id": "2ae8351e",
   "metadata": {
    "execution": {
     "iopub.execute_input": "2022-03-01T11:56:21.693738Z",
     "iopub.status.busy": "2022-03-01T11:56:21.693019Z",
     "iopub.status.idle": "2022-03-01T11:56:22.046378Z",
     "shell.execute_reply": "2022-03-01T11:56:22.048009Z",
     "shell.execute_reply.started": "2022-03-01T11:24:31.420251Z"
    },
    "papermill": {
     "duration": 0.416931,
     "end_time": "2022-03-01T11:56:22.048350",
     "exception": false,
     "start_time": "2022-03-01T11:56:21.631419",
     "status": "completed"
    },
    "tags": []
   },
   "outputs": [
    {
     "data": {
      "text/plain": [
       "(30553.332,\n",
       " array([ 4.29255562e+01, -1.30444824e+02, -1.71725391e+03, -1.60310156e+03,\n",
       "        -2.51845703e+01,  4.07033691e+02,  5.86738770e+02,  2.35163232e+03,\n",
       "         2.95926758e+02,  2.20585083e+02, -1.11696301e+03, -1.37950854e+03,\n",
       "         1.89217651e+03,  8.77875977e+01, -7.69612061e+02,  4.05514221e+01,\n",
       "        -3.23192139e+01,  7.71066895e+02,  9.69167480e+01, -1.06596985e+02,\n",
       "         1.83598767e+03,  3.94123071e+03, -5.77734668e+03, -4.53267517e+02,\n",
       "        -1.22139893e+03,  4.70435669e+02,  5.13846313e+02,  8.14111328e+00,\n",
       "         6.82228027e+02,  2.24645508e+04, -2.24645508e+04,  3.65001221e+02,\n",
       "         1.25488770e+02, -1.19823389e+03, -1.34707251e+03,  1.72312866e+03,\n",
       "         3.31656982e+02], dtype=float32))"
      ]
     },
     "execution_count": 27,
     "metadata": {},
     "output_type": "execute_result"
    }
   ],
   "source": [
    "from sklearn.linear_model import LinearRegression\n",
    "lin_reg = LinearRegression()\n",
    "lin_reg.fit(X_train, y_train)\n",
    "lin_reg.intercept_, lin_reg.coef_"
   ]
  },
  {
   "cell_type": "code",
   "execution_count": 28,
   "id": "bdcf525a",
   "metadata": {
    "execution": {
     "iopub.execute_input": "2022-03-01T11:56:22.213459Z",
     "iopub.status.busy": "2022-03-01T11:56:22.212332Z",
     "iopub.status.idle": "2022-03-01T11:56:22.223984Z",
     "shell.execute_reply": "2022-03-01T11:56:22.224984Z",
     "shell.execute_reply.started": "2022-03-01T11:24:31.714092Z"
    },
    "papermill": {
     "duration": 0.07835,
     "end_time": "2022-03-01T11:56:22.225283",
     "exception": false,
     "start_time": "2022-03-01T11:56:22.146933",
     "status": "completed"
    },
    "tags": []
   },
   "outputs": [
    {
     "name": "stdout",
     "output_type": "stream",
     "text": [
      "6761.713696552156\n"
     ]
    }
   ],
   "source": [
    "y_pred = lin_reg.predict(X_test)\n",
    "print(rmse(y_pred, y_test))"
   ]
  },
  {
   "cell_type": "markdown",
   "id": "1d02ecae",
   "metadata": {
    "papermill": {
     "duration": 0.059481,
     "end_time": "2022-03-01T11:56:22.396342",
     "exception": false,
     "start_time": "2022-03-01T11:56:22.336861",
     "status": "completed"
    },
    "tags": []
   },
   "source": [
    "### Linear Regression using CV"
   ]
  },
  {
   "cell_type": "code",
   "execution_count": 29,
   "id": "6b578bc3",
   "metadata": {
    "execution": {
     "iopub.execute_input": "2022-03-01T11:56:22.522385Z",
     "iopub.status.busy": "2022-03-01T11:56:22.521076Z",
     "iopub.status.idle": "2022-03-01T11:56:25.037110Z",
     "shell.execute_reply": "2022-03-01T11:56:25.038036Z",
     "shell.execute_reply.started": "2022-03-01T11:24:31.742670Z"
    },
    "papermill": {
     "duration": 2.582028,
     "end_time": "2022-03-01T11:56:25.038333",
     "exception": false,
     "start_time": "2022-03-01T11:56:22.456305",
     "status": "completed"
    },
    "tags": []
   },
   "outputs": [],
   "source": [
    "from sklearn.model_selection import cross_val_score\n",
    "scores = cross_val_score(lin_reg, X_train, y_train, scoring=\"neg_mean_squared_error\", cv=10)\n",
    "lin_rmse_scores = np.sqrt(-scores)"
   ]
  },
  {
   "cell_type": "code",
   "execution_count": 30,
   "id": "4d661b14",
   "metadata": {
    "execution": {
     "iopub.execute_input": "2022-03-01T11:56:25.241585Z",
     "iopub.status.busy": "2022-03-01T11:56:25.240607Z",
     "iopub.status.idle": "2022-03-01T11:56:25.246322Z",
     "shell.execute_reply": "2022-03-01T11:56:25.247037Z",
     "shell.execute_reply.started": "2022-03-01T11:24:34.344391Z"
    },
    "papermill": {
     "duration": 0.071125,
     "end_time": "2022-03-01T11:56:25.247294",
     "exception": false,
     "start_time": "2022-03-01T11:56:25.176169",
     "status": "completed"
    },
    "tags": []
   },
   "outputs": [
    {
     "name": "stdout",
     "output_type": "stream",
     "text": [
      "Scores: [6766.16198446 6665.00082521 6744.85433497 6707.35983827 6803.145155\n",
      " 6807.79935074 6814.55765256 6738.97291878 6707.19076812 6773.08910321]\n",
      "Mean: 6752.813193131779\n",
      "Standard Deviation: 46.980620104147235\n"
     ]
    }
   ],
   "source": [
    "display_scores(lin_rmse_scores)"
   ]
  },
  {
   "cell_type": "markdown",
   "id": "5f3bb1f2",
   "metadata": {
    "papermill": {
     "duration": 0.060599,
     "end_time": "2022-03-01T11:56:25.370051",
     "exception": false,
     "start_time": "2022-03-01T11:56:25.309452",
     "status": "completed"
    },
    "tags": []
   },
   "source": [
    "## Decision Tree Regressor"
   ]
  },
  {
   "cell_type": "code",
   "execution_count": 31,
   "id": "1b4b6629",
   "metadata": {
    "execution": {
     "iopub.execute_input": "2022-03-01T11:56:25.496005Z",
     "iopub.status.busy": "2022-03-01T11:56:25.494977Z",
     "iopub.status.idle": "2022-03-01T11:56:27.510116Z",
     "shell.execute_reply": "2022-03-01T11:56:27.509546Z",
     "shell.execute_reply.started": "2022-03-01T11:24:34.356729Z"
    },
    "papermill": {
     "duration": 2.079496,
     "end_time": "2022-03-01T11:56:27.510256",
     "exception": false,
     "start_time": "2022-03-01T11:56:25.430760",
     "status": "completed"
    },
    "tags": []
   },
   "outputs": [
    {
     "data": {
      "text/plain": [
       "DecisionTreeRegressor()"
      ]
     },
     "execution_count": 31,
     "metadata": {},
     "output_type": "execute_result"
    }
   ],
   "source": [
    "from sklearn.tree import DecisionTreeRegressor\n",
    "tree_reg = DecisionTreeRegressor()\n",
    "tree_reg.fit(X_train, y_train)"
   ]
  },
  {
   "cell_type": "code",
   "execution_count": 32,
   "id": "c3a8ef6a",
   "metadata": {
    "execution": {
     "iopub.execute_input": "2022-03-01T11:56:27.636405Z",
     "iopub.status.busy": "2022-03-01T11:56:27.634464Z",
     "iopub.status.idle": "2022-03-01T11:56:27.665323Z",
     "shell.execute_reply": "2022-03-01T11:56:27.665820Z",
     "shell.execute_reply.started": "2022-03-01T11:24:36.249624Z"
    },
    "papermill": {
     "duration": 0.094741,
     "end_time": "2022-03-01T11:56:27.665997",
     "exception": false,
     "start_time": "2022-03-01T11:56:27.571256",
     "status": "completed"
    },
    "tags": []
   },
   "outputs": [],
   "source": [
    "tree_pred = tree_reg.predict(X_test)"
   ]
  },
  {
   "cell_type": "code",
   "execution_count": 33,
   "id": "22b4b912",
   "metadata": {
    "execution": {
     "iopub.execute_input": "2022-03-01T11:56:27.790184Z",
     "iopub.status.busy": "2022-03-01T11:56:27.789564Z",
     "iopub.status.idle": "2022-03-01T11:56:27.797317Z",
     "shell.execute_reply": "2022-03-01T11:56:27.797887Z",
     "shell.execute_reply.started": "2022-03-01T11:24:36.281179Z"
    },
    "papermill": {
     "duration": 0.071631,
     "end_time": "2022-03-01T11:56:27.798054",
     "exception": false,
     "start_time": "2022-03-01T11:56:27.726423",
     "status": "completed"
    },
    "tags": []
   },
   "outputs": [
    {
     "data": {
      "text/plain": [
       "3526.260777197037"
      ]
     },
     "execution_count": 33,
     "metadata": {},
     "output_type": "execute_result"
    }
   ],
   "source": [
    "from sklearn.metrics import mean_squared_error\n",
    "tree_mse = np.sqrt(mean_squared_error(y_test, tree_pred))\n",
    "tree_mse"
   ]
  },
  {
   "cell_type": "code",
   "execution_count": 34,
   "id": "83548892",
   "metadata": {
    "execution": {
     "iopub.execute_input": "2022-03-01T11:56:27.930021Z",
     "iopub.status.busy": "2022-03-01T11:56:27.929378Z",
     "iopub.status.idle": "2022-03-01T11:56:45.081584Z",
     "shell.execute_reply": "2022-03-01T11:56:45.080673Z",
     "shell.execute_reply.started": "2022-03-01T11:24:36.291135Z"
    },
    "papermill": {
     "duration": 17.222521,
     "end_time": "2022-03-01T11:56:45.081787",
     "exception": false,
     "start_time": "2022-03-01T11:56:27.859266",
     "status": "completed"
    },
    "tags": []
   },
   "outputs": [
    {
     "name": "stdout",
     "output_type": "stream",
     "text": [
      "Scores: [3564.1229768  3540.33511761 3403.40499306 3504.26593354 3387.17578409\n",
      " 3581.48936835 3528.76208831 3379.83587881 3331.35165315 3523.36810313]\n",
      "Mean: 3474.411189686574\n",
      "Standard Deviation: 84.94964804110465\n"
     ]
    }
   ],
   "source": [
    "tree_scores = cross_val_score(tree_reg, X_train, y_train, scoring=\"neg_mean_squared_error\", cv=10)\n",
    "tree_rmse_scores = np.sqrt(-tree_scores)\n",
    "display_scores(tree_rmse_scores)"
   ]
  },
  {
   "cell_type": "markdown",
   "id": "067f3c05",
   "metadata": {
    "papermill": {
     "duration": 0.063526,
     "end_time": "2022-03-01T11:56:45.212287",
     "exception": false,
     "start_time": "2022-03-01T11:56:45.148761",
     "status": "completed"
    },
    "tags": []
   },
   "source": [
    "## Random Forest Regressor"
   ]
  },
  {
   "cell_type": "code",
   "execution_count": 35,
   "id": "26d20224",
   "metadata": {
    "execution": {
     "iopub.execute_input": "2022-03-01T11:56:45.340548Z",
     "iopub.status.busy": "2022-03-01T11:56:45.339818Z",
     "iopub.status.idle": "2022-03-01T11:58:44.574768Z",
     "shell.execute_reply": "2022-03-01T11:58:44.575276Z",
     "shell.execute_reply.started": "2022-03-01T11:24:52.524377Z"
    },
    "papermill": {
     "duration": 119.301393,
     "end_time": "2022-03-01T11:58:44.575459",
     "exception": false,
     "start_time": "2022-03-01T11:56:45.274066",
     "status": "completed"
    },
    "tags": []
   },
   "outputs": [
    {
     "data": {
      "text/plain": [
       "RandomForestRegressor()"
      ]
     },
     "execution_count": 35,
     "metadata": {},
     "output_type": "execute_result"
    }
   ],
   "source": [
    "from sklearn.ensemble import RandomForestRegressor\n",
    "forest_reg = RandomForestRegressor()\n",
    "forest_reg.fit(X_train, y_train)"
   ]
  },
  {
   "cell_type": "code",
   "execution_count": 36,
   "id": "46c0d169",
   "metadata": {
    "execution": {
     "iopub.execute_input": "2022-03-01T11:58:44.701915Z",
     "iopub.status.busy": "2022-03-01T11:58:44.699705Z",
     "iopub.status.idle": "2022-03-01T11:58:47.109953Z",
     "shell.execute_reply": "2022-03-01T11:58:47.109470Z",
     "shell.execute_reply.started": "2022-03-01T11:26:44.734756Z"
    },
    "papermill": {
     "duration": 2.47441,
     "end_time": "2022-03-01T11:58:47.110112",
     "exception": false,
     "start_time": "2022-03-01T11:58:44.635702",
     "status": "completed"
    },
    "tags": []
   },
   "outputs": [
    {
     "data": {
      "text/plain": [
       "2787.661874012399"
      ]
     },
     "execution_count": 36,
     "metadata": {},
     "output_type": "execute_result"
    }
   ],
   "source": [
    "forest_pred = forest_reg.predict(X_test)\n",
    "np.sqrt(mean_squared_error(y_test, forest_pred))"
   ]
  },
  {
   "cell_type": "code",
   "execution_count": null,
   "id": "f8efe308",
   "metadata": {
    "execution": {
     "iopub.execute_input": "2022-03-01T11:58:47.239523Z",
     "iopub.status.busy": "2022-03-01T11:58:47.238776Z",
     "iopub.status.idle": "2022-03-01T12:06:21.886453Z",
     "shell.execute_reply": "2022-03-01T12:06:21.887503Z",
     "shell.execute_reply.started": "2022-03-01T11:47:29.681718Z"
    },
    "papermill": {
     "duration": 454.715645,
     "end_time": "2022-03-01T12:06:21.887993",
     "exception": false,
     "start_time": "2022-03-01T11:58:47.172348",
     "status": "completed"
    },
    "tags": []
   },
   "outputs": [],
   "source": [
    "forest_scores = cross_val_score(forest_reg,X_train, y_train, scoring=\"neg_mean_squared_error\", cv=5)\n",
    "forest_rmse_scores = np.sqrt(-forest_scores)\n",
    "display_scores(forest_rmse_scores)"
   ]
  },
  {
   "cell_type": "code",
   "execution_count": null,
   "id": "01f8e189",
   "metadata": {
    "execution": {
     "iopub.execute_input": "2022-03-01T12:06:22.021813Z",
     "iopub.status.busy": "2022-03-01T12:06:22.021134Z",
     "iopub.status.idle": "2022-03-01T12:06:24.382994Z",
     "shell.execute_reply": "2022-03-01T12:06:24.383529Z",
     "shell.execute_reply.started": "2022-03-01T11:55:20.580264Z"
    },
    "papermill": {
     "duration": 2.430847,
     "end_time": "2022-03-01T12:06:24.383713",
     "exception": false,
     "start_time": "2022-03-01T12:06:21.952866",
     "status": "completed"
    },
    "tags": []
   },
   "outputs": [],
   "source": [
    "forest_reg.score(X_test, y_test)"
   ]
  },
  {
   "cell_type": "code",
   "execution_count": null,
   "id": "a717ee27",
   "metadata": {},
   "outputs": [],
   "source": [
    "from sklearn.ensemble import VotingClassifier"
   ]
  },
  {
   "cell_type": "code",
   "execution_count": null,
   "id": "b8dfa554",
   "metadata": {},
   "outputs": [],
   "source": [
    "\n",
    "model=VotingClassifier([('Linear Regression',linear_reg),('Decision Tree Regressor',tree_reg),('Random Forest Regressor',forest_reg)])\n",
    "model.fit(X_train,y_train)\n",
    "EMscore=model.score(X_test,y_test)"
   ]
  },
  {
   "cell_type": "code",
   "execution_count": null,
   "id": "5e19ecea",
   "metadata": {},
   "outputs": [],
   "source": [
    "EMpredict=model.predict(X_test)"
   ]
  },
  {
   "cell_type": "code",
   "execution_count": null,
   "id": "c73095a0",
   "metadata": {},
   "outputs": [],
   "source": []
  }
 ],
 "metadata": {
  "kernelspec": {
   "display_name": "Python 3 (ipykernel)",
   "language": "python",
   "name": "python3"
  },
  "language_info": {
   "codemirror_mode": {
    "name": "ipython",
    "version": 3
   },
   "file_extension": ".py",
   "mimetype": "text/x-python",
   "name": "python",
   "nbconvert_exporter": "python",
   "pygments_lexer": "ipython3",
   "version": "3.9.7"
  },
  "papermill": {
   "default_parameters": {},
   "duration": 624.755457,
   "end_time": "2022-03-01T12:06:25.261546",
   "environment_variables": {},
   "exception": null,
   "input_path": "__notebook__.ipynb",
   "output_path": "__notebook__.ipynb",
   "parameters": {},
   "start_time": "2022-03-01T11:56:00.506089",
   "version": "2.3.3"
  }
 },
 "nbformat": 4,
 "nbformat_minor": 5
}
